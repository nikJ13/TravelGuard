{
 "cells": [
  {
   "cell_type": "code",
   "execution_count": 3,
   "metadata": {},
   "outputs": [
    {
     "name": "stdout",
     "output_type": "stream",
     "text": [
      "Train on 43 samples, validate on 5 samples\n",
      "Epoch 1/15\n",
      "43/43 [==============================] - 1s 27ms/sample - loss: 4.1735 - acc: 0.4651 - val_loss: 1.8003 - val_acc: 0.4000\n",
      "Epoch 2/15\n",
      "43/43 [==============================] - 1s 23ms/sample - loss: 1.9914 - acc: 0.5349 - val_loss: 3.6638 - val_acc: 0.6000\n",
      "Epoch 3/15\n",
      "43/43 [==============================] - 1s 22ms/sample - loss: 4.3234 - acc: 0.4884 - val_loss: 1.3825 - val_acc: 0.6000\n",
      "Epoch 4/15\n",
      "43/43 [==============================] - 1s 23ms/sample - loss: 1.5739 - acc: 0.4884 - val_loss: 0.8848 - val_acc: 0.4000\n",
      "Epoch 5/15\n",
      "43/43 [==============================] - 1s 22ms/sample - loss: 0.5611 - acc: 0.5814 - val_loss: 0.7590 - val_acc: 0.6000\n",
      "Epoch 6/15\n",
      "43/43 [==============================] - 1s 24ms/sample - loss: 0.4694 - acc: 0.8140 - val_loss: 0.6888 - val_acc: 0.4000\n",
      "Epoch 7/15\n",
      "43/43 [==============================] - 1s 23ms/sample - loss: 0.3180 - acc: 0.9302 - val_loss: 0.9413 - val_acc: 0.4000\n",
      "Epoch 8/15\n",
      "43/43 [==============================] - 1s 23ms/sample - loss: 0.2897 - acc: 0.8837 - val_loss: 0.8329 - val_acc: 0.6000\n",
      "Epoch 9/15\n",
      "43/43 [==============================] - 1s 23ms/sample - loss: 0.1834 - acc: 1.0000 - val_loss: 0.7903 - val_acc: 0.4000\n",
      "Epoch 10/15\n",
      "43/43 [==============================] - 1s 22ms/sample - loss: 0.1861 - acc: 0.9535 - val_loss: 0.9443 - val_acc: 0.6000\n",
      "Epoch 11/15\n",
      "43/43 [==============================] - 1s 25ms/sample - loss: 0.1103 - acc: 1.0000 - val_loss: 1.0604 - val_acc: 0.6000\n",
      "Epoch 12/15\n",
      "43/43 [==============================] - 1s 22ms/sample - loss: 0.0790 - acc: 1.0000 - val_loss: 0.8112 - val_acc: 0.4000\n",
      "Epoch 13/15\n",
      "43/43 [==============================] - 1s 22ms/sample - loss: 0.0421 - acc: 1.0000 - val_loss: 0.7805 - val_acc: 0.4000\n",
      "Epoch 14/15\n",
      "43/43 [==============================] - 1s 23ms/sample - loss: 0.0338 - acc: 1.0000 - val_loss: 0.7996 - val_acc: 0.4000\n",
      "Epoch 15/15\n",
      "43/43 [==============================] - 1s 22ms/sample - loss: 0.0149 - acc: 1.0000 - val_loss: 0.9720 - val_acc: 0.6000\n"
     ]
    }
   ],
   "source": [
    "import tensorflow as tf\n",
    "from tensorflow.keras.models import Sequential\n",
    "from tensorflow.keras.layers import Dense,Dropout,Activation,Flatten,Conv2D,MaxPooling2D\n",
    "from tensorflow.keras.callbacks import TensorBoard\n",
    "import pickle\n",
    "import time\n",
    "\n",
    "NAME= \"phone-call-cnn-64x2-{}\".format(int(time.time()))\n",
    "tensorboard=TensorBoard(log_dir='logs/{}'.format(NAME))\n",
    "\n",
    "\n",
    "X=pickle.load(open(\"X.pickle\",\"rb\"))\n",
    "y=pickle.load(open(\"y.pickle\",\"rb\"))\n",
    "X=X/255.0\n",
    "model=Sequential()\n",
    "model.add(Conv2D(64,(3,3),input_shape=X.shape[1:]))\n",
    "model.add(Activation(\"relu\"))\n",
    "model.add(MaxPooling2D(pool_size=(2,2)))\n",
    "\n",
    "model.add(Conv2D(64,(3,3)))\n",
    "model.add(Activation(\"relu\"))\n",
    "model.add(MaxPooling2D(pool_size=(2,2)))\n",
    "\n",
    "model.add(Flatten())\n",
    "model.add(Dense(64))\n",
    "\n",
    "model.add(Dense(1))\n",
    "model.add(Activation('sigmoid'))\n",
    "\n",
    "model.compile(loss=\"binary_crossentropy\",\n",
    "              optimizer=\"adam\",\n",
    "              metrics=['accuracy'])\n",
    "\n",
    "model.fit(X,y,batch_size=32, epochs=15,validation_split=0.1)\n",
    "model.save('64x3-CNN.model')"
   ]
  },
  {
   "cell_type": "code",
   "execution_count": null,
   "metadata": {},
   "outputs": [],
   "source": []
  }
 ],
 "metadata": {
  "kernelspec": {
   "display_name": "Python 3",
   "language": "python",
   "name": "python3"
  },
  "language_info": {
   "codemirror_mode": {
    "name": "ipython",
    "version": 3
   },
   "file_extension": ".py",
   "mimetype": "text/x-python",
   "name": "python",
   "nbconvert_exporter": "python",
   "pygments_lexer": "ipython3",
   "version": "3.6.8"
  }
 },
 "nbformat": 4,
 "nbformat_minor": 2
}
